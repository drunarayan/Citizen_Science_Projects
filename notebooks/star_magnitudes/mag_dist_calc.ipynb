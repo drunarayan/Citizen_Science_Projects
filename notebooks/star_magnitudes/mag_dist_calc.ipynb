{
 "cells": [
  {
   "cell_type": "markdown",
   "id": "a4154a0c-20ae-4a06-9e39-dff595ddf7ce",
   "metadata": {},
   "source": [
    "# Review Magnitude and Distance/Parallax Formulas\n",
    "### The quantity $\\boxed{m_{app} - m_{abs}} $ OR $ \\boxed {m - M} $ is known as the distance modulus\n",
    "### Note that this quantity appears in the equations below to calculate magnitudes and distance\n",
    "## 1. How to calculate Magnitudes when distance (in pc) is known\n",
    "### $$ \\boxed{m_{app} - m_{abs} =  5 \\times log_{10}(distance) - 5} $$\n",
    "## 2. How to calculate Magnitudes when parallax (in arc-sec) is known\n",
    "### $$ \\boxed{m_{app} - m_{abs} =  5 \\times log_{10}(1/parallax) - 5} $$\n",
    "## 3. How to calculate Distance (in pc) when apparent and absolute magnitudes are known\n",
    "### $$ \\boxed{distance = 10^{\\frac{m_{app}-m_{abs}+5}{5}}} $$"
   ]
  },
  {
   "cell_type": "markdown",
   "id": "d42938a8-7b57-48b0-ae97-2085a16b76f6",
   "metadata": {},
   "source": [
    "## Let's do some additional magnitude & distance problems (look up values from sky safari or wikipedia)\n",
    "1. Calculate the Vega's's Absolute Magnitude knowing it's Distance and Apparent Magnitude?\n",
    "1. Calculate the Deneb's Absolute Magnitude knowing it's Distance and Apparent Magnitude?\n",
    "1. What is the distance of Polaris (a \"Cepheid star\") if its Absolute and Apparent magnitudes are known? "
   ]
  },
  {
   "cell_type": "markdown",
   "id": "49b5601a-5617-48d1-940c-e2a4a043786e",
   "metadata": {},
   "source": [
    "### 1. Calculating Vega's Absolute Magnitude"
   ]
  },
  {
   "cell_type": "code",
   "execution_count": null,
   "id": "93b2e3f8-6d66-438d-bcf3-a39e0d995506",
   "metadata": {},
   "outputs": [],
   "source": [
    "import math\n",
    "au = 150e6 # Input here in KM\n",
    "au_m = au*1e3 # Calculate value of AU in meters\n",
    "light_speed = 300e6 # speed of light in meters per second (look up in Google)\n",
    "seconds_in_year = 365.25*24*60*60 # Calculate number of seconds in 1 year\n",
    "light_year_m = seconds_in_year*light_speed # Calculate meters in 1 light year basd on variables above\n",
    "au_in_light_year = light_year_m / au_m # Calculate au  in 1 light year basd on variables above\n",
    "ly_in_a_pc = 3.26 # light years in a parsec\n",
    "au_in_a_pc = au_in_light_year * ly_in_a_pc # Calculate number of AU in one Parsec using previously calculated 'au_in_light_year'\n",
    "mapp_vega = ??  # Look up in sky safari or wikipedia\n",
    "dist_vega = ?? # in ly - Look up in sky safari or wikipedia\n",
    "dist_vega_pc = ?? # convert to pc using ly_in_a_pc\n",
    "mabs_vega = ?? # type in formula from above using python syntax. hint: see star_plx_lum_mag.ipynb\n",
    "print(f\"Vega's Absolute Magnitude is: {mabs_vega:.2f}\") "
   ]
  },
  {
   "cell_type": "markdown",
   "id": "a08f3374-ceba-44e4-bef0-65b13b575cca",
   "metadata": {},
   "source": [
    "### 2. Calculating Deneb's Absolute Magnitude"
   ]
  },
  {
   "cell_type": "code",
   "execution_count": null,
   "id": "f5910b99-b338-468f-8cbe-5ce0d36b02ba",
   "metadata": {},
   "outputs": [],
   "source": [
    "mapp_deneb = ??  # Look up in sky safari or wikipedia\n",
    "dist_deneb = ?? # in ly - Look up in sky safari or wikipedia\n",
    "dist_deneb_pc = ?? # convert to pc\n",
    "mabs_deneb = ?? # type in formula from above using python syntax. hint: see star_plx_lum_mag.ipynb\n",
    "print(f\"Deneb's Absolute Magnitude is: {mabs_deneb:.2f}\") "
   ]
  },
  {
   "cell_type": "markdown",
   "id": "497beb15-cf25-4094-a869-d425d6b946b9",
   "metadata": {},
   "source": [
    "### 3. Calculate the distance of Polaris knowing its Apparent and Absolute Magnitudes"
   ]
  },
  {
   "cell_type": "code",
   "execution_count": null,
   "id": "adc89368-3701-433f-912c-6ee65a0d7fd3",
   "metadata": {},
   "outputs": [],
   "source": [
    "mapp_polaris = ? # Look this up\n",
    "mabs_polaris = ? # Look this up\n",
    "dist_polaris = ? # type in formula 3 from above using python syntax.\n",
    "\n",
    "print(f\"Calculated Polaris Distance: {dist_polaris:.2f} Parsecs!!!\") \n",
    "dist_polaris_ly = dist_polaris * ly_in_a_pc\n",
    "print(f\"Calculated Polaris Distance: {dist_polaris_ly:.2f} Light Years!!!\") "
   ]
  },
  {
   "cell_type": "code",
   "execution_count": null,
   "id": "303676d3-bf18-46d9-ac10-c5c01b4c6745",
   "metadata": {},
   "outputs": [],
   "source": []
  }
 ],
 "metadata": {
  "kernelspec": {
   "display_name": "Python 3 (ipykernel)",
   "language": "python",
   "name": "python3"
  },
  "language_info": {
   "codemirror_mode": {
    "name": "ipython",
    "version": 3
   },
   "file_extension": ".py",
   "mimetype": "text/x-python",
   "name": "python",
   "nbconvert_exporter": "python",
   "pygments_lexer": "ipython3",
   "version": "3.9.13"
  }
 },
 "nbformat": 4,
 "nbformat_minor": 5
}
